{
 "cells": [
  {
   "cell_type": "code",
   "execution_count": 16,
   "metadata": {},
   "outputs": [],
   "source": [
    "from RacingDRL.DataTools.TrajAnalysis.CalculateStatistics import generate_folder_statistics\n",
    "\n"
   ]
  },
  {
   "cell_type": "code",
   "execution_count": 17,
   "metadata": {},
   "outputs": [
    {
     "name": "stdout",
     "output_type": "stream",
     "text": [
      "['Data/GameAblation_1/AgentOff_SAC_GameAblation_esp_stateLidar_8_1_0/', 'Data/GameAblation_1/AgentOff_SAC_GameAblation_esp_stateWaypoints_8_1_0/', 'Data/GameAblation_1/AgentOff_SAC_GameAblation_esp_lidarWaypoints_8_1_0/', 'Data/GameAblation_1/AgentOff_SAC_GameAblation_esp_waypoints_8_1_0/', 'Data/GameAblation_1/AgentOff_SAC_GameAblation_esp_lidar_8_1_0/', 'Data/GameAblation_1/AgentOff_SAC_GameAblation_esp_stateLidarWaypoints_8_1_0/', 'Data/GameAblation_1/AgentOff_SAC_GameAblation_esp_state_8_1_0/']\n",
      "7 folders found\n",
      "Vehicle folder being opened: Data/GameAblation_1/AgentOff_SAC_GameAblation_esp_stateLidar_8_1_0/\n"
     ]
    },
    {
     "ename": "FileNotFoundError",
     "evalue": "[Errno 2] No such file or directory: 'maps/stateLidar.yaml'",
     "output_type": "error",
     "traceback": [
      "\u001b[0;31m---------------------------------------------------------------------------\u001b[0m",
      "\u001b[0;31mFileNotFoundError\u001b[0m                         Traceback (most recent call last)",
      "Cell \u001b[0;32mIn[17], line 3\u001b[0m\n\u001b[1;32m      1\u001b[0m \u001b[39m# path = \"Data/GameAblation_1/\"\u001b[39;00m\n\u001b[1;32m      2\u001b[0m folder \u001b[39m=\u001b[39m \u001b[39m\"\u001b[39m\u001b[39mData/GameAblation_1/\u001b[39m\u001b[39m\"\u001b[39m\n\u001b[0;32m----> 3\u001b[0m generate_folder_statistics(folder)\n",
      "File \u001b[0;32m~/Documents/AutonomousRacing/RacingDRL/RacingDRL/DataTools/TrajAnalysis/CalculateStatistics.py:177\u001b[0m, in \u001b[0;36mgenerate_folder_statistics\u001b[0;34m(folder)\u001b[0m\n\u001b[1;32m    175\u001b[0m \u001b[39mdef\u001b[39;00m \u001b[39mgenerate_folder_statistics\u001b[39m(folder):\n\u001b[1;32m    176\u001b[0m     TestData \u001b[39m=\u001b[39m AnalyseTestLapData()\n\u001b[0;32m--> 177\u001b[0m     TestData\u001b[39m.\u001b[39;49mexplore_folder(folder)\n",
      "File \u001b[0;32m~/Documents/AutonomousRacing/RacingDRL/RacingDRL/DataTools/TrajAnalysis/CalculateStatistics.py:52\u001b[0m, in \u001b[0;36mAnalyseTestLapData.explore_folder\u001b[0;34m(self, path)\u001b[0m\n\u001b[1;32m     47\u001b[0m \u001b[39mprint\u001b[39m(\u001b[39mf\u001b[39m\u001b[39m\"\u001b[39m\u001b[39mVehicle folder being opened: \u001b[39m\u001b[39m{\u001b[39;00mfolder\u001b[39m}\u001b[39;00m\u001b[39m\"\u001b[39m)\n\u001b[1;32m     49\u001b[0m \u001b[39m# if os.path.exists(folder + \"Statistics.txt\"):\u001b[39;00m\n\u001b[1;32m     50\u001b[0m \u001b[39m#     continue\u001b[39;00m\n\u001b[0;32m---> 52\u001b[0m \u001b[39mself\u001b[39;49m\u001b[39m.\u001b[39;49mprocess_folder(folder)\n",
      "File \u001b[0;32m~/Documents/AutonomousRacing/RacingDRL/RacingDRL/DataTools/TrajAnalysis/CalculateStatistics.py:66\u001b[0m, in \u001b[0;36mAnalyseTestLapData.process_folder\u001b[0;34m(self, folder)\u001b[0m\n\u001b[1;32m     64\u001b[0m \u001b[39mif\u001b[39;00m \u001b[39mself\u001b[39m\u001b[39m.\u001b[39mmap_name \u001b[39m==\u001b[39m \u001b[39m\"\u001b[39m\u001b[39mf1\u001b[39m\u001b[39m\"\u001b[39m:\n\u001b[1;32m     65\u001b[0m     \u001b[39mself\u001b[39m\u001b[39m.\u001b[39mmap_name \u001b[39m+\u001b[39m\u001b[39m=\u001b[39m \u001b[39m\"\u001b[39m\u001b[39m_\u001b[39m\u001b[39m\"\u001b[39m \u001b[39m+\u001b[39m \u001b[39mself\u001b[39m\u001b[39m.\u001b[39mvehicle_name\u001b[39m.\u001b[39msplit(\u001b[39m\"\u001b[39m\u001b[39m_\u001b[39m\u001b[39m\"\u001b[39m)[\u001b[39m5\u001b[39m]\n\u001b[0;32m---> 66\u001b[0m \u001b[39mself\u001b[39m\u001b[39m.\u001b[39mmap_data \u001b[39m=\u001b[39m MapData(\u001b[39mself\u001b[39;49m\u001b[39m.\u001b[39;49mmap_name)\n\u001b[1;32m     67\u001b[0m \u001b[39mself\u001b[39m\u001b[39m.\u001b[39mstd_track \u001b[39m=\u001b[39m StdTrack(\u001b[39mself\u001b[39m\u001b[39m.\u001b[39mmap_name)\n\u001b[1;32m     68\u001b[0m \u001b[39mself\u001b[39m\u001b[39m.\u001b[39mracing_track \u001b[39m=\u001b[39m RacingTrack(\u001b[39mself\u001b[39m\u001b[39m.\u001b[39mmap_name)\n",
      "File \u001b[0;32m~/Documents/AutonomousRacing/RacingRewards/RacingRewards/DataTools/MapData.py:23\u001b[0m, in \u001b[0;36mMapData.__init__\u001b[0;34m(self, map_name)\u001b[0m\n\u001b[1;32m     20\u001b[0m \u001b[39mself\u001b[39m\u001b[39m.\u001b[39mmap_height \u001b[39m=\u001b[39m \u001b[39mNone\u001b[39;00m\n\u001b[1;32m     21\u001b[0m \u001b[39mself\u001b[39m\u001b[39m.\u001b[39mmap_width \u001b[39m=\u001b[39m \u001b[39mNone\u001b[39;00m\n\u001b[0;32m---> 23\u001b[0m \u001b[39mself\u001b[39;49m\u001b[39m.\u001b[39;49mload_map_img()\n\u001b[1;32m     24\u001b[0m \u001b[39mself\u001b[39m\u001b[39m.\u001b[39mload_centerline()\n\u001b[1;32m     25\u001b[0m \u001b[39mtry\u001b[39;00m:\n",
      "File \u001b[0;32m~/Documents/AutonomousRacing/RacingRewards/RacingRewards/DataTools/MapData.py:30\u001b[0m, in \u001b[0;36mMapData.load_map_img\u001b[0;34m(self)\u001b[0m\n\u001b[1;32m     29\u001b[0m \u001b[39mdef\u001b[39;00m \u001b[39mload_map_img\u001b[39m(\u001b[39mself\u001b[39m):\n\u001b[0;32m---> 30\u001b[0m     \u001b[39mwith\u001b[39;00m \u001b[39mopen\u001b[39;49m(\u001b[39mself\u001b[39;49m\u001b[39m.\u001b[39;49mpath \u001b[39m+\u001b[39;49m \u001b[39mself\u001b[39;49m\u001b[39m.\u001b[39;49mmap_name \u001b[39m+\u001b[39;49m \u001b[39m\"\u001b[39;49m\u001b[39m.yaml\u001b[39;49m\u001b[39m\"\u001b[39;49m, \u001b[39m'\u001b[39;49m\u001b[39mr\u001b[39;49m\u001b[39m'\u001b[39;49m) \u001b[39mas\u001b[39;00m file:\n\u001b[1;32m     31\u001b[0m         map_yaml_data \u001b[39m=\u001b[39m yaml\u001b[39m.\u001b[39msafe_load(file)\n\u001b[1;32m     32\u001b[0m         \u001b[39mself\u001b[39m\u001b[39m.\u001b[39mmap_resolution \u001b[39m=\u001b[39m map_yaml_data[\u001b[39m\"\u001b[39m\u001b[39mresolution\u001b[39m\u001b[39m\"\u001b[39m]\n",
      "\u001b[0;31mFileNotFoundError\u001b[0m: [Errno 2] No such file or directory: 'maps/stateLidar.yaml'"
     ]
    }
   ],
   "source": [
    "# path = \"Data/GameAblation_1/\"\n",
    "folder = \"Data/GameAblation_1/\"\n",
    "generate_folder_statistics(folder)"
   ]
  }
 ],
 "metadata": {
  "kernelspec": {
   "display_name": "Python 3",
   "language": "python",
   "name": "python3"
  },
  "language_info": {
   "codemirror_mode": {
    "name": "ipython",
    "version": 3
   },
   "file_extension": ".py",
   "mimetype": "text/x-python",
   "name": "python",
   "nbconvert_exporter": "python",
   "pygments_lexer": "ipython3",
   "version": "3.8.10"
  },
  "orig_nbformat": 4
 },
 "nbformat": 4,
 "nbformat_minor": 2
}
